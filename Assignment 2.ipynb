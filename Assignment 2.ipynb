{
 "cells": [
  {
   "cell_type": "markdown",
   "id": "35aba897",
   "metadata": {},
   "source": [
    "#  __FIT1043 Intro to  Data Science__\n",
    "#  __Assignment 2__\n",
    "#### Naveed Hassan\n",
    "#### 32799047\n",
    "#### 29/04/2022\n",
    "____________________________________________________________________________________________________________________________"
   ]
  },
  {
   "cell_type": "markdown",
   "id": "a4bf503d",
   "metadata": {},
   "source": [
    "## 1 Introduction\n",
    "A predictive analysis will be conducted through the use of Machine Learning tools. Scaling and Building the model to predict scores of an essay given the contents of the essay \n"
   ]
  },
  {
   "cell_type": "markdown",
   "id": "d0803155",
   "metadata": {},
   "source": [
    "### Importing Libraries\n",
    "The first step is to import libraries.\n",
    "We use numpy\n",
    "We use Pandas that will be used for various purposes such as using the dataFrame structure and reading data files\n",
    "We will also use the matplotlib to visualize the data."
   ]
  },
  {
   "cell_type": "code",
   "execution_count": 292,
   "id": "da7c3e0d",
   "metadata": {},
   "outputs": [],
   "source": [
    "import numpy as np\n",
    "import pandas as pd\n",
    "import matplotlib.pyplot as plt\n",
    "%matplotlib inline"
   ]
  },
  {
   "cell_type": "code",
   "execution_count": 293,
   "id": "bbc26d78",
   "metadata": {},
   "outputs": [],
   "source": [
    "import warnings\n",
    "warnings.filterwarnings('ignore')"
   ]
  },
  {
   "cell_type": "markdown",
   "id": "ba4c5af0",
   "metadata": {},
   "source": [
    "### Read the data from the CSV File"
   ]
  },
  {
   "cell_type": "markdown",
   "id": "bb68a5d6",
   "metadata": {},
   "source": [
    "### b. Importing the necessary libraries, read the file (‘FIT1043-EssayFeatures.csv‘), and provide some description of the data you have read."
   ]
  },
  {
   "cell_type": "code",
   "execution_count": 294,
   "id": "ce50b8fc",
   "metadata": {},
   "outputs": [
    {
     "data": {
      "text/plain": [
       "(1332, 19)"
      ]
     },
     "execution_count": 294,
     "metadata": {},
     "output_type": "execute_result"
    }
   ],
   "source": [
    "data = pd.read_csv('FIT1043-Essay-Features.csv')\n",
    "data.shape"
   ]
  },
  {
   "cell_type": "markdown",
   "id": "65a041f9",
   "metadata": {},
   "source": [
    "### Reading the data to check if it is read correctly "
   ]
  },
  {
   "cell_type": "code",
   "execution_count": 295,
   "id": "85ba5daa",
   "metadata": {},
   "outputs": [
    {
     "data": {
      "text/html": [
       "<div>\n",
       "<style scoped>\n",
       "    .dataframe tbody tr th:only-of-type {\n",
       "        vertical-align: middle;\n",
       "    }\n",
       "\n",
       "    .dataframe tbody tr th {\n",
       "        vertical-align: top;\n",
       "    }\n",
       "\n",
       "    .dataframe thead th {\n",
       "        text-align: right;\n",
       "    }\n",
       "</style>\n",
       "<table border=\"1\" class=\"dataframe\">\n",
       "  <thead>\n",
       "    <tr style=\"text-align: right;\">\n",
       "      <th></th>\n",
       "      <th>essayid</th>\n",
       "      <th>chars</th>\n",
       "      <th>words</th>\n",
       "      <th>commas</th>\n",
       "      <th>apostrophes</th>\n",
       "      <th>punctuations</th>\n",
       "      <th>avg_word_length</th>\n",
       "      <th>sentences</th>\n",
       "      <th>questions</th>\n",
       "      <th>avg_word_sentence</th>\n",
       "      <th>POS</th>\n",
       "      <th>POS/total_words</th>\n",
       "      <th>prompt_words</th>\n",
       "      <th>prompt_words/total_words</th>\n",
       "      <th>synonym_words</th>\n",
       "      <th>synonym_words/total_words</th>\n",
       "      <th>unstemmed</th>\n",
       "      <th>stemmed</th>\n",
       "      <th>score</th>\n",
       "    </tr>\n",
       "  </thead>\n",
       "  <tbody>\n",
       "    <tr>\n",
       "      <th>0</th>\n",
       "      <td>1457</td>\n",
       "      <td>2153</td>\n",
       "      <td>426</td>\n",
       "      <td>14</td>\n",
       "      <td>6</td>\n",
       "      <td>0</td>\n",
       "      <td>5.053991</td>\n",
       "      <td>16</td>\n",
       "      <td>0</td>\n",
       "      <td>26.625000</td>\n",
       "      <td>423.995272</td>\n",
       "      <td>0.995294</td>\n",
       "      <td>207</td>\n",
       "      <td>0.485915</td>\n",
       "      <td>105</td>\n",
       "      <td>0.246479</td>\n",
       "      <td>424</td>\n",
       "      <td>412</td>\n",
       "      <td>4</td>\n",
       "    </tr>\n",
       "    <tr>\n",
       "      <th>1</th>\n",
       "      <td>503</td>\n",
       "      <td>1480</td>\n",
       "      <td>292</td>\n",
       "      <td>9</td>\n",
       "      <td>7</td>\n",
       "      <td>0</td>\n",
       "      <td>5.068493</td>\n",
       "      <td>11</td>\n",
       "      <td>0</td>\n",
       "      <td>26.545455</td>\n",
       "      <td>290.993103</td>\n",
       "      <td>0.996552</td>\n",
       "      <td>148</td>\n",
       "      <td>0.506849</td>\n",
       "      <td>77</td>\n",
       "      <td>0.263699</td>\n",
       "      <td>356</td>\n",
       "      <td>345</td>\n",
       "      <td>4</td>\n",
       "    </tr>\n",
       "    <tr>\n",
       "      <th>2</th>\n",
       "      <td>253</td>\n",
       "      <td>3964</td>\n",
       "      <td>849</td>\n",
       "      <td>19</td>\n",
       "      <td>26</td>\n",
       "      <td>1</td>\n",
       "      <td>4.669022</td>\n",
       "      <td>49</td>\n",
       "      <td>2</td>\n",
       "      <td>17.326531</td>\n",
       "      <td>843.990544</td>\n",
       "      <td>0.994100</td>\n",
       "      <td>285</td>\n",
       "      <td>0.335689</td>\n",
       "      <td>130</td>\n",
       "      <td>0.153121</td>\n",
       "      <td>750</td>\n",
       "      <td>750</td>\n",
       "      <td>4</td>\n",
       "    </tr>\n",
       "    <tr>\n",
       "      <th>3</th>\n",
       "      <td>107</td>\n",
       "      <td>988</td>\n",
       "      <td>210</td>\n",
       "      <td>8</td>\n",
       "      <td>7</td>\n",
       "      <td>0</td>\n",
       "      <td>4.704762</td>\n",
       "      <td>12</td>\n",
       "      <td>0</td>\n",
       "      <td>17.500000</td>\n",
       "      <td>207.653784</td>\n",
       "      <td>0.988828</td>\n",
       "      <td>112</td>\n",
       "      <td>0.533333</td>\n",
       "      <td>62</td>\n",
       "      <td>0.295238</td>\n",
       "      <td>217</td>\n",
       "      <td>209</td>\n",
       "      <td>3</td>\n",
       "    </tr>\n",
       "    <tr>\n",
       "      <th>4</th>\n",
       "      <td>1450</td>\n",
       "      <td>3139</td>\n",
       "      <td>600</td>\n",
       "      <td>13</td>\n",
       "      <td>8</td>\n",
       "      <td>0</td>\n",
       "      <td>5.231667</td>\n",
       "      <td>24</td>\n",
       "      <td>1</td>\n",
       "      <td>25.000000</td>\n",
       "      <td>594.652150</td>\n",
       "      <td>0.991087</td>\n",
       "      <td>255</td>\n",
       "      <td>0.425000</td>\n",
       "      <td>165</td>\n",
       "      <td>0.275000</td>\n",
       "      <td>702</td>\n",
       "      <td>677</td>\n",
       "      <td>4</td>\n",
       "    </tr>\n",
       "  </tbody>\n",
       "</table>\n",
       "</div>"
      ],
      "text/plain": [
       "   essayid  chars  words  commas  apostrophes  punctuations  avg_word_length  \\\n",
       "0     1457   2153    426      14            6             0         5.053991   \n",
       "1      503   1480    292       9            7             0         5.068493   \n",
       "2      253   3964    849      19           26             1         4.669022   \n",
       "3      107    988    210       8            7             0         4.704762   \n",
       "4     1450   3139    600      13            8             0         5.231667   \n",
       "\n",
       "   sentences  questions  avg_word_sentence         POS  POS/total_words  \\\n",
       "0         16          0          26.625000  423.995272         0.995294   \n",
       "1         11          0          26.545455  290.993103         0.996552   \n",
       "2         49          2          17.326531  843.990544         0.994100   \n",
       "3         12          0          17.500000  207.653784         0.988828   \n",
       "4         24          1          25.000000  594.652150         0.991087   \n",
       "\n",
       "   prompt_words  prompt_words/total_words  synonym_words  \\\n",
       "0           207                  0.485915            105   \n",
       "1           148                  0.506849             77   \n",
       "2           285                  0.335689            130   \n",
       "3           112                  0.533333             62   \n",
       "4           255                  0.425000            165   \n",
       "\n",
       "   synonym_words/total_words  unstemmed  stemmed  score  \n",
       "0                   0.246479        424      412      4  \n",
       "1                   0.263699        356      345      4  \n",
       "2                   0.153121        750      750      4  \n",
       "3                   0.295238        217      209      3  \n",
       "4                   0.275000        702      677      4  "
      ]
     },
     "execution_count": 295,
     "metadata": {},
     "output_type": "execute_result"
    }
   ],
   "source": [
    "data.head()"
   ]
  },
  {
   "cell_type": "code",
   "execution_count": 296,
   "id": "8e1c8803",
   "metadata": {},
   "outputs": [
    {
     "data": {
      "text/plain": [
       "<bound method NDFrame.describe of       essayid  chars  words  commas  apostrophes  punctuations  \\\n",
       "0        1457   2153    426      14            6             0   \n",
       "1         503   1480    292       9            7             0   \n",
       "2         253   3964    849      19           26             1   \n",
       "3         107    988    210       8            7             0   \n",
       "4        1450   3139    600      13            8             0   \n",
       "...       ...    ...    ...     ...          ...           ...   \n",
       "1327     1151   2404    467      16           10             0   \n",
       "1328     1015   1182    241       0           14             0   \n",
       "1329     1345   1814    363       5           11             0   \n",
       "1330      344   1427    287       5            8             0   \n",
       "1331     1077   2806    542      24            6             0   \n",
       "\n",
       "      avg_word_length  sentences  questions  avg_word_sentence         POS  \\\n",
       "0            5.053991         16          0          26.625000  423.995272   \n",
       "1            5.068493         11          0          26.545455  290.993103   \n",
       "2            4.669022         49          2          17.326531  843.990544   \n",
       "3            4.704762         12          0          17.500000  207.653784   \n",
       "4            5.231667         24          1          25.000000  594.652150   \n",
       "...               ...        ...        ...                ...         ...   \n",
       "1327         5.147752         22          0          21.227273  462.987069   \n",
       "1328         4.904564         16          0          15.062500  238.655462   \n",
       "1329         4.997245         13          3          27.923077  362.329640   \n",
       "1330         4.972125         13          1          22.076923  284.657277   \n",
       "1331         5.177122         22          3          24.636364  538.988889   \n",
       "\n",
       "      POS/total_words  prompt_words  prompt_words/total_words  synonym_words  \\\n",
       "0            0.995294           207                  0.485915            105   \n",
       "1            0.996552           148                  0.506849             77   \n",
       "2            0.994100           285                  0.335689            130   \n",
       "3            0.988828           112                  0.533333             62   \n",
       "4            0.991087           255                  0.425000            165   \n",
       "...               ...           ...                       ...            ...   \n",
       "1327         0.991407           200                  0.428266            113   \n",
       "1328         0.990272            94                  0.390041             67   \n",
       "1329         0.998153           170                  0.468320            107   \n",
       "1330         0.991837           144                  0.501742             83   \n",
       "1331         0.994444           284                  0.523985            155   \n",
       "\n",
       "      synonym_words/total_words  unstemmed  stemmed  score  \n",
       "0                      0.246479        424      412      4  \n",
       "1                      0.263699        356      345      4  \n",
       "2                      0.153121        750      750      4  \n",
       "3                      0.295238        217      209      3  \n",
       "4                      0.275000        702      677      4  \n",
       "...                         ...        ...      ...    ...  \n",
       "1327                   0.241970        529      519      4  \n",
       "1328                   0.278008        293      283      3  \n",
       "1329                   0.294766        427      415      3  \n",
       "1330                   0.289199        323      312      3  \n",
       "1331                   0.285978        596      575      4  \n",
       "\n",
       "[1332 rows x 19 columns]>"
      ]
     },
     "execution_count": 296,
     "metadata": {},
     "output_type": "execute_result"
    }
   ],
   "source": [
    "data.describe"
   ]
  },
  {
   "cell_type": "markdown",
   "id": "d6e9e19e",
   "metadata": {},
   "source": [
    " The data contains rows of the content of an essay and the eventual final score of the essay"
   ]
  },
  {
   "cell_type": "markdown",
   "id": "52c0df66",
   "metadata": {},
   "source": [
    "## 2.Supervised Learning"
   ]
  },
  {
   "cell_type": "markdown",
   "id": "9e1a1d35",
   "metadata": {},
   "source": [
    "### a. Explain supervised machine learning, the notion of labelled data, and the training and test datasets.\n",
    "\n",
    "It is the method in which the machines are trained using labelled data (input) and and predict the output based on that data.\n",
    "The training data acts as the supervisor that trains the data to predict the correct output"
   ]
  },
  {
   "cell_type": "markdown",
   "id": "13ddc8d2",
   "metadata": {},
   "source": [
    "### b. Separate the features and the label"
   ]
  },
  {
   "cell_type": "markdown",
   "id": "3f0a0b87",
   "metadata": {},
   "source": [
    "### Compare columns with the score to check how each column affects the score"
   ]
  },
  {
   "cell_type": "code",
   "execution_count": 297,
   "id": "46752675",
   "metadata": {},
   "outputs": [
    {
     "data": {
      "image/png": "[encoded data removed]",
      "text/plain": [
       "<Figure size 432x288 with 1 Axes>"
      ]
     },
     "metadata": {
      "needs_background": "light"
     },
     "output_type": "display_data"
    }
   ],
   "source": [
    "plt.plot(data['score'], data['POS'], label = \"chars\")\n",
    "plt.legend()\n",
    "plt.show()"
   ]
  },
  {
   "cell_type": "code",
   "execution_count": 298,
   "id": "832cbf36",
   "metadata": {},
   "outputs": [],
   "source": [
    "#X = data.iloc[:, [1, 2, 3, 4, 5, 6, 7, 8, 9, 10, 11, 12, 13, 14, 15, 16, 17]].values # Input Data: Content of the essay\n",
    "#X = data.iloc[:, [2, 10, 12, 14, 16, 17]].values # Input Data: Content of the essay\n",
    "X = data.iloc[:, [12, 14, 16, 17]].values # Input Data: Content of the essay\n",
    "#X = data.iloc[:, [1, 2, 10, 12, 14, 13, 15, 16, 17]].values\n",
    "y = data.iloc[:, -1].values # Labeled Data: Score"
   ]
  },
  {
   "cell_type": "markdown",
   "id": "944497b2",
   "metadata": {},
   "source": [
    "We plot X and y on a line graph to check if the columns chosen are apporpriate for the model"
   ]
  },
  {
   "cell_type": "code",
   "execution_count": 299,
   "id": "d43a99e0",
   "metadata": {
    "scrolled": true
   },
   "outputs": [
    {
     "data": {
      "image/png": "[encoded data removed]",
      "text/plain": [
       "<Figure size 432x288 with 1 Axes>"
      ]
     },
     "metadata": {
      "needs_background": "light"
     },
     "output_type": "display_data"
    }
   ],
   "source": [
    "plt.plot(y, X)\n",
    "plt.show()"
   ]
  },
  {
   "cell_type": "markdown",
   "id": "077d2ad5",
   "metadata": {},
   "source": [
    "### c. Use the sklearn.model_selection.train_test_split function to split your data for training and testing.\n"
   ]
  },
  {
   "cell_type": "code",
   "execution_count": 300,
   "id": "13668114",
   "metadata": {},
   "outputs": [],
   "source": [
    "from sklearn.model_selection import train_test_split"
   ]
  },
  {
   "cell_type": "markdown",
   "id": "02c1b84f",
   "metadata": {},
   "source": [
    "We use 75% of the data for training and the remaining 25% for testing as this seems to be the optimal ratio for better accuracy"
   ]
  },
  {
   "cell_type": "code",
   "execution_count": 301,
   "id": "ef7e43c5",
   "metadata": {},
   "outputs": [],
   "source": [
    "X_train, X_test, y_train, y_test = train_test_split(\n",
    " X, y, test_size = 0.25)"
   ]
  },
  {
   "cell_type": "code",
   "execution_count": 302,
   "id": "cece1c11",
   "metadata": {},
   "outputs": [
    {
     "data": {
      "text/plain": [
       "333"
      ]
     },
     "execution_count": 302,
     "metadata": {},
     "output_type": "execute_result"
    }
   ],
   "source": [
    "len(X_test)"
   ]
  },
  {
   "cell_type": "markdown",
   "id": "7744cfae",
   "metadata": {},
   "source": [
    "## 3. Classification"
   ]
  },
  {
   "cell_type": "markdown",
   "id": "88636a7d",
   "metadata": {},
   "source": [
    "### a. Explain the difference between binary and multi-class classification.\n",
    "Binary classification are the classfiication tasks that have only two class labels\n",
    "whereas multiclass classification are the classification tasks that have more than two class labels.[1]"
   ]
  },
  {
   "cell_type": "markdown",
   "id": "44d9d725",
   "metadata": {},
   "source": [
    "### b. Normalising the data\n",
    "Normalization of data is done to transform features to be on a similar scale to improve stability and performance of the model."
   ]
  },
  {
   "cell_type": "markdown",
   "id": "daaacd08",
   "metadata": {},
   "source": [
    "Use StandardScaler to scale the input and labeled data accordingly"
   ]
  },
  {
   "cell_type": "code",
   "execution_count": 303,
   "id": "66c4ddf6",
   "metadata": {},
   "outputs": [],
   "source": [
    "# Feature Scaling\n",
    "from sklearn.preprocessing import StandardScaler\n",
    "sc = StandardScaler()\n",
    "X_train = sc.fit_transform(X_train)  ## fit transform\n",
    "X_test = sc.transform(X_test) ## trasform"
   ]
  },
  {
   "cell_type": "markdown",
   "id": "d1f2b2e4",
   "metadata": {},
   "source": [
    "### c. Use the Support Vector Machine algorithm to build the model."
   ]
  },
  {
   "cell_type": "markdown",
   "id": "3789f761",
   "metadata": {},
   "source": [
    "#### i. Describe SVM (in relation to Linear Regression).\n",
    "SVM stands for Support Vector Machine and is a linear model for classification and regression problems. [2]\n",
    "SVM supports both linear and non linear through kernel. SVM handles outliers better than Linear Regression[3]"
   ]
  },
  {
   "cell_type": "markdown",
   "id": "44bb8835",
   "metadata": {},
   "source": [
    "#### ii. In SVM/SVR, there is something called the kernel. Explain what you understand from it.\n",
    "A kernel is a method used in SVM to apply linear classifiers to non-linear problems [4]\n"
   ]
  },
  {
   "cell_type": "markdown",
   "id": "4ee6cbab",
   "metadata": {},
   "source": [
    "### We compare which kernel best suits the model to achieve highest accuracy"
   ]
  },
  {
   "cell_type": "code",
   "execution_count": 304,
   "id": "0ed8f122",
   "metadata": {},
   "outputs": [],
   "source": [
    "from sklearn import svm\n",
    "linear = svm.SVC(kernel = 'linear').fit(X_train, y_train)\n",
    "poly = svm.SVC(kernel = 'poly', degree = 4).fit(X_train, y_train)\n",
    "rbf = svm.SVC(kernel = 'rbf').fit(X_train, y_train)\n",
    "sigmoid  = svm.SVC(kernel = 'sigmoid').fit(X_train, y_train)\n"
   ]
  },
  {
   "cell_type": "code",
   "execution_count": 305,
   "id": "1950d6d7",
   "metadata": {},
   "outputs": [],
   "source": [
    "l_pred = linear.predict(X_test)\n",
    "p_pred = poly.predict(X_test)\n",
    "r_pred = rbf.predict(X_test)\n",
    "s_pred = sigmoid.predict(X_test)"
   ]
  },
  {
   "cell_type": "code",
   "execution_count": 306,
   "id": "f3470eba",
   "metadata": {},
   "outputs": [
    {
     "name": "stdout",
     "output_type": "stream",
     "text": [
      "0.7057057057057057 0.5105105105105106 0.7087087087087087 0.5735735735735735\n"
     ]
    }
   ],
   "source": [
    "from sklearn.metrics import accuracy_score\n",
    "l = accuracy_score(y_test, l_pred)\n",
    "p = accuracy_score(y_test, p_pred)\n",
    "r = accuracy_score(y_test, r_pred)\n",
    "s = accuracy_score(y_test, s_pred)\n",
    "print(l, p, r, s)"
   ]
  },
  {
   "cell_type": "markdown",
   "id": "6866d2e2",
   "metadata": {},
   "source": [
    "We can see that rbf is the most accurate, hence we use it to train our model"
   ]
  },
  {
   "cell_type": "markdown",
   "id": "750ea283",
   "metadata": {},
   "source": [
    "### d. Predict"
   ]
  },
  {
   "cell_type": "markdown",
   "id": "9a0d9908",
   "metadata": {},
   "source": [
    "#### i. Using the testing dataset you created in 2(c) above, conduct the prediction for the ‘score’ (label)."
   ]
  },
  {
   "cell_type": "code",
   "execution_count": 307,
   "id": "38f539ef",
   "metadata": {},
   "outputs": [
    {
     "data": {
      "text/plain": [
       "array([4, 4, 3, 3, 4, 3, 3, 3, 2, 3, 3, 3, 3, 3, 3, 3, 4, 4, 3, 4, 4, 3,\n",
       "       3, 3, 3, 3, 3, 3, 3, 4, 4, 3, 3, 4, 3, 4, 3, 3, 4, 4, 3, 4, 2, 3,\n",
       "       4, 4, 3, 4, 4, 4, 2, 4, 4, 3, 2, 4, 3, 3, 3, 3, 3, 3, 4, 3, 4, 3,\n",
       "       4, 3, 3, 4, 3, 4, 3, 2, 4, 4, 4, 4, 4, 3, 3, 3, 3, 4, 4, 3, 3, 4,\n",
       "       4, 3, 4, 3, 3, 4, 4, 4, 4, 4, 2, 4, 4, 4, 3, 2, 3, 4, 4, 4, 3, 2,\n",
       "       4, 3, 3, 3, 2, 4, 3, 4, 4, 4, 3, 4, 3, 2, 4, 3, 4, 3, 4, 4, 3, 3,\n",
       "       4, 4, 3, 3, 4, 3, 4, 3, 4, 2, 4, 4, 4, 2, 4, 4, 4, 2, 3, 4, 4, 3,\n",
       "       2, 3, 4, 4, 2, 4, 4, 2, 3, 3, 4, 4, 3, 4, 3, 3, 4, 4, 3, 3, 3, 4,\n",
       "       4, 3, 3, 3, 3, 4, 3, 3, 3, 2, 3, 4, 3, 4, 3, 3, 3, 3, 4, 4, 4, 4,\n",
       "       3, 4, 3, 3, 4, 2, 3, 3, 4, 4, 3, 4, 3, 4, 3, 3, 3, 4, 3, 4, 3, 3,\n",
       "       3, 4, 3, 3, 3, 4, 3, 3, 3, 4, 4, 4, 3, 4, 3, 4, 4, 4, 4, 3, 4, 4,\n",
       "       4, 2, 4, 4, 3, 4, 3, 3, 4, 4, 3, 4, 4, 4, 4, 4, 3, 3, 4, 3, 4, 3,\n",
       "       4, 3, 3, 4, 4, 4, 4, 4, 2, 4, 3, 3, 4, 4, 4, 4, 4, 3, 4, 4, 4, 3,\n",
       "       3, 3, 3, 4, 3, 4, 4, 3, 2, 4, 3, 3, 4, 3, 2, 3, 3, 3, 4, 3, 2, 4,\n",
       "       4, 4, 4, 3, 4, 3, 4, 4, 4, 4, 4, 3, 4, 4, 3, 4, 4, 3, 4, 4, 4, 4,\n",
       "       4, 3, 3], dtype=int64)"
      ]
     },
     "execution_count": 307,
     "metadata": {},
     "output_type": "execute_result"
    }
   ],
   "source": [
    "clf = svm.SVC(kernel = 'rbf').fit(X_train, y_train)\n",
    "#clf.fit(X_train, y_train)\n",
    "y_pred = clf.predict(X_test)\n",
    "y_pred"
   ]
  },
  {
   "cell_type": "markdown",
   "id": "7374a0c7",
   "metadata": {},
   "source": [
    "### ii. Display the confusion matrix (it should look like a 6x6 matrix).Unlike the lectures, where it is just a 2x2, you are now introduced to a multi-class classification."
   ]
  },
  {
   "cell_type": "code",
   "execution_count": 308,
   "id": "76e24e8a",
   "metadata": {
    "scrolled": true
   },
   "outputs": [
    {
     "name": "stdout",
     "output_type": "stream",
     "text": [
      "              precision    recall  f1-score   support\n",
      "\n",
      "           1       0.00      0.00      0.00         2\n",
      "           2       0.83      0.59      0.69        32\n",
      "           3       0.71      0.74      0.72       142\n",
      "           4       0.69      0.79      0.74       141\n",
      "           5       0.00      0.00      0.00        15\n",
      "           6       0.00      0.00      0.00         1\n",
      "\n",
      "    accuracy                           0.71       333\n",
      "   macro avg       0.37      0.35      0.36       333\n",
      "weighted avg       0.67      0.71      0.69       333\n",
      "\n"
     ]
    },
    {
     "data": {
      "image/png": "[encoded data removed]",
      "text/plain": [
       "<Figure size 432x288 with 2 Axes>"
      ]
     },
     "metadata": {
      "needs_background": "light"
     },
     "output_type": "display_data"
    }
   ],
   "source": [
    "from sklearn.metrics import plot_confusion_matrix\n",
    "from sklearn.metrics import classification_report\n",
    "print(classification_report(y_test, y_pred))\n",
    "plot_confusion_matrix(clf, X_test, y_test, cmap = 'summer') \n",
    "plt.show()"
   ]
  },
  {
   "cell_type": "code",
   "execution_count": 309,
   "id": "a86a9870",
   "metadata": {},
   "outputs": [
    {
     "data": {
      "text/plain": [
       "0.7087087087087087"
      ]
     },
     "execution_count": 309,
     "metadata": {},
     "output_type": "execute_result"
    }
   ],
   "source": [
    "from sklearn.metrics import accuracy_score\n",
    "accuracy_score(y_test, y_pred)"
   ]
  },
  {
   "cell_type": "markdown",
   "id": "b93ab1bd",
   "metadata": {},
   "source": [
    "### iii. Explain Quadratic Weighted Kappa (QWK). \n",
    "QWK is the measure of agreement between 2 outcomes [5]"
   ]
  },
  {
   "cell_type": "markdown",
   "id": "0b1c995e",
   "metadata": {},
   "source": [
    "### iv. Use the sklearn.metrics library to code and obtain the QWK score."
   ]
  },
  {
   "cell_type": "code",
   "execution_count": 310,
   "id": "69d85f01",
   "metadata": {},
   "outputs": [
    {
     "data": {
      "text/plain": [
       "0.5832395737203393"
      ]
     },
     "execution_count": 310,
     "metadata": {},
     "output_type": "execute_result"
    }
   ],
   "source": [
    "from sklearn.metrics import cohen_kappa_score\n",
    "cohen_kappa_score(y_pred, y_test, labels=None, weights='linear')"
   ]
  },
  {
   "cell_type": "markdown",
   "id": "e334f813",
   "metadata": {},
   "source": [
    "### a. Read the ‘FIT1043-Essay-Features-Submission.csv’ file and use the model you built earlier to predict the ‘score’."
   ]
  },
  {
   "cell_type": "markdown",
   "id": "b1d5db48",
   "metadata": {},
   "source": [
    "#### Read the file"
   ]
  },
  {
   "cell_type": "code",
   "execution_count": 311,
   "id": "3c2099e6",
   "metadata": {},
   "outputs": [
    {
     "data": {
      "text/plain": [
       "0      1623\n",
       "1      1143\n",
       "2       660\n",
       "3      1596\n",
       "4       846\n",
       "       ... \n",
       "194    1226\n",
       "195     862\n",
       "196    1562\n",
       "197    1336\n",
       "198    1171\n",
       "Name: essayid, Length: 199, dtype: int64"
      ]
     },
     "execution_count": 311,
     "metadata": {},
     "output_type": "execute_result"
    }
   ],
   "source": [
    "df = pd.read_csv('FIT1043-Essay-Features-Submission.csv')\n",
    "df['essayid']"
   ]
  },
  {
   "cell_type": "markdown",
   "id": "a1f4c03d",
   "metadata": {},
   "source": [
    "#### Select the relevant columns used to predict"
   ]
  },
  {
   "cell_type": "code",
   "execution_count": 312,
   "id": "35eeaf09",
   "metadata": {
    "scrolled": true
   },
   "outputs": [
    {
     "data": {
      "text/plain": [
       "array([4, 3, 3, 4, 4, 4, 3, 4, 3, 3, 4, 4, 4, 3, 4, 4, 4, 4, 3, 4, 3, 3,\n",
       "       4, 4, 4, 3, 4, 4, 4, 3, 2, 4, 3, 3, 4, 3, 4, 4, 3, 3, 3, 4, 3, 3,\n",
       "       2, 3, 3, 4, 4, 3, 3, 4, 4, 4, 3, 4, 3, 3, 4, 4, 2, 3, 3, 4, 3, 4,\n",
       "       4, 4, 3, 3, 3, 3, 4, 3, 3, 3, 3, 3, 4, 4, 3, 4, 4, 3, 4, 2, 4, 4,\n",
       "       2, 3, 4, 3, 3, 3, 4, 4, 4, 4, 3, 3, 3, 4, 2, 4, 3, 4, 3, 3, 4, 4,\n",
       "       5, 3, 4, 4, 4, 3, 3, 4, 2, 3, 4, 4, 4, 3, 2, 4, 4, 4, 3, 2, 4, 4,\n",
       "       2, 3, 4, 3, 3, 4, 2, 3, 4, 4, 4, 3, 3, 4, 4, 3, 4, 4, 4, 3, 3, 3,\n",
       "       4, 3, 3, 3, 4, 4, 4, 3, 2, 3, 4, 4, 3, 3, 2, 4, 3, 4, 4, 3, 4, 4,\n",
       "       4, 3, 3, 4, 4, 3, 4, 4, 4, 4, 3, 3, 4, 3, 3, 4, 3, 4, 3, 4, 4, 3,\n",
       "       4], dtype=int64)"
      ]
     },
     "execution_count": 312,
     "metadata": {},
     "output_type": "execute_result"
    }
   ],
   "source": [
    "z = df.iloc[:,[12, 14, 16, 17]].values\n",
    "z = sc.fit_transform(z)\n",
    "y_final = clf.predict(z)\n",
    "y_final"
   ]
  },
  {
   "cell_type": "markdown",
   "id": "6cc18048",
   "metadata": {},
   "source": [
    "### c. Output your prediction to a CSV file that contains 2 columns, ‘essayid’ and ‘score’. It should have a total of 200 lines (1 header, and 199 entries)."
   ]
  },
  {
   "cell_type": "code",
   "execution_count": 313,
   "id": "791b9824",
   "metadata": {},
   "outputs": [],
   "source": [
    "output = pd.DataFrame({'essayid': df['essayid'], 'score': y_final})\n",
    "output.to_csv('32799047-MuhammedHassan.csv',index=False)"
   ]
  },
  {
   "cell_type": "markdown",
   "id": "d3330a38",
   "metadata": {},
   "source": [
    "# Conclusion"
   ]
  },
  {
   "cell_type": "markdown",
   "id": "abfb4534",
   "metadata": {},
   "source": [
    "In conclusion, The Machine Learning model developed in this work used supervised learning, the training data used here is Row 12, 14, 16, 17 as those produced the most accuracte results that was fed to the ML to make a prediction. The data was scaled using Standard Scaler and used SVM to build the model. A prediction was made on the data provided and produced a 71% accuracy."
   ]
  },
  {
   "cell_type": "markdown",
   "id": "369f8fa8",
   "metadata": {},
   "source": [
    "# References"
   ]
  },
  {
   "cell_type": "markdown",
   "id": "8f21de57",
   "metadata": {},
   "source": [
    "[1] www.javatpoint.com. 2022. Supervised Machine learning - Javatpoint. [online] Available at: <https://www.javatpoint.com/supervised-machine-learning>.        \n",
    "\n",
    "[2] Medium. 2022. Support Vector Machines(SVM) — An Overview. [online] Available at: <https://towardsdatascience.com/https-medium-com-pupalerushikesh-svm-f4b42800e989#:~:text=SVM%20or%20Support%20Vector%20Machine,separates%20the%20data%20into%20classes.>. \n",
    "\n",
    "[3] Medium. 2022. Comparative study on Classic Machine learning Algorithms. [online] Available at: <https://towardsdatascience.com/comparative-study-on-classic-machine-learning-algorithms-24f9ff6ab222> . \n",
    "\n",
    "[4] Programmathically - A Blog on Building Machine Learning Solutions. 2022. What is a Kernel in Machine Learning? - Programmathically. [online] Available at: <https://programmathically.com/what-is-a-kernel-in-machine-learning/> .\n",
    "\n",
    "[5] Kaggle.com. 2022. Simple Explanation of Quadratic Weighted Kappa. [online] Available at: <https://www.kaggle.com/code/prashant111/simple-explanation-of-quadratic-weighted-kappa/notebook> .    \n"
   ]
  }
 ],
 "metadata": {
  "kernelspec": {
   "display_name": "Python 3 (ipykernel)",
   "language": "python",
   "name": "python3"
  },
  "language_info": {
   "codemirror_mode": {
    "name": "ipython",
    "version": 3
   },
   "file_extension": ".py",
   "mimetype": "text/x-python",
   "name": "python",
   "nbconvert_exporter": "python",
   "pygments_lexer": "ipython3",
   "version": "3.9.7"
  }
 },
 "nbformat": 4,
 "nbformat_minor": 5
}
